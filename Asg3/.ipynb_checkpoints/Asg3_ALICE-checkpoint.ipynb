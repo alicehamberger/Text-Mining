{
 "cells": [
  {
   "cell_type": "markdown",
   "metadata": {
    "id": "AQzYGMVl4-1n"
   },
   "source": [
    "# Assignment 3"
   ]
  },
  {
   "cell_type": "markdown",
   "metadata": {
    "id": "Dloey_mk4-1q"
   },
   "source": [
    "## Guidelines\n",
    "\n",
    "> Remember to add an explanation of what you do using markdown, and to comment your code. Please *be brief*.\n",
    ">\n",
    "> If you re-use a substantial portion of code you find online, e.g on Stackoverflow, you need to add a link to it and make the borrowing explicit. The same applies of you take it and modify it, even substantially. There is nothing bad in doing that, providing you are acknowledging it and make it clear you know what you're doing.\n",
    ">\n",
    "> Make sure your notebooks have been run when you sumit, as I won't run them myself. Submit both the `.ipynb` file along with an `.html` export of the same. Submit all necessary auxilliary files as well. Please compress your submission into a `.zip` archive. Only `.zip` files can be submitted."
   ]
  },
  {
   "cell_type": "markdown",
   "metadata": {
    "id": "zfy-TozC4-1s"
   },
   "source": [
    "## Grading policy\n",
    "> As follows:\n",
    ">\n",
    "> * 80 points for correctly completing the assignment.\n",
    ">\n",
    "> * 20 points for appropriately writing and organizing your code in terms of structure, readibility (also by humans), comments and minimal documentation. It is important to be concise but also to explain what you did and why, when not obvious.\n",
    "> \n",
    "> Note that there are no extras for this assignment, as all 100 points are accrued via questions. \n",
    "\n",
    "**The AUC code of conduct applies to this assignment: please only submit your own work.**"
   ]
  },
  {
   "cell_type": "markdown",
   "metadata": {
    "id": "qRnI9EF74-1t"
   },
   "source": [
    "---"
   ]
  },
  {
   "cell_type": "markdown",
   "metadata": {
    "id": "MmAFtiS14-1u"
   },
   "source": [
    "# Introduction\n",
    "\n",
    "In this assignment, you will build and compare classifiers for measuring the **sentiment of tweets related to COVID-19**.\n",
    "\n",
    "The dataset you will work with is [publicly available in Kaggle](https://www.kaggle.com/datatattle/covid-19-nlp-text-classification) (and attached to the assignment for your convenience). Make sure to check its minimal Kaggle documentation before starting.\n",
    "\n",
    "This is a real dataset, and therefore messy. It is possible that you won't achieve great results on the classification task with your classifier. That is normal, don't worry about it! You also may find text encoding issues with this dataset. Try to find a simple solution to this problem, I don't think there is an easy way to fix it completely for these files.\n",
    "\n",
    "*Please note: this dataset should not but might contain content which could be considered as offensive.*"
   ]
  },
  {
   "cell_type": "markdown",
   "metadata": {
    "id": "Rv4avAae4-1v"
   },
   "source": [
    "---"
   ]
  },
  {
   "cell_type": "markdown",
   "metadata": {
    "id": "TTwyDa3M4-1v"
   },
   "source": [
    "# Skeleton pipeline (25 points)"
   ]
  },
  {
   "cell_type": "markdown",
   "metadata": {
    "id": "nXgFtpSY4-1x"
   },
   "source": [
    "## Question 1 (10 points)\n",
    "\n",
    "Your dataset contains tweets, including handlers, hashtags, URLs, etc. Set-up a **minimal pre-processing pipeline** for them (focus on the `OriginalTweet` column), possibly including:\n",
    "\n",
    "* Tokenization\n",
    "* Filtering\n",
    "* Lemmatization/Stemming\n",
    "\n",
    "Please note that what to include is up to you, motivate your choices and remember that more is not necessarily better: if you are not sure why you are doing something, it might be better not to. Feel free to use NLTK, spaCy or anything else you like here."
   ]
  },
  {
   "cell_type": "code",
   "execution_count": 13,
   "metadata": {
    "id": "x0DzGcra4-1x"
   },
   "outputs": [],
   "source": [
    "import re\n",
    "import nltk\n",
    "import spacy\n",
    "import string\n",
    "import random\n",
    "import chardet\n",
    "import numpy as np\n",
    "import collections\n",
    "import pandas as pd\n",
    "import seaborn as sns\n",
    "import en_core_web_sm \n",
    "from sklearn import metrics\n",
    "import matplotlib.pyplot as plt\n",
    "from scipy.stats import wilcoxon\n",
    "from nltk.tokenize import word_tokenize\n",
    "from nltk.tokenize import TweetTokenizer\n",
    "from sklearn.svm import SVR, SVC, LinearSVC\n",
    "from matplotlib.ticker import PercentFormatter\n",
    "from sklearn.neural_network import MLPClassifier\n",
    "from sklearn.model_selection import GridSearchCV\n",
    "from torch.utils.data.dataset import random_split\n",
    "from sklearn.linear_model import LogisticRegression\n",
    "from sklearn.model_selection import train_test_split\n",
    "from sklearn.ensemble import RandomForestClassifier, RandomForestRegressor\n",
    "from sklearn.metrics import recall_score, precision_score, f1_score, accuracy_score\n",
    "from sklearn.feature_extraction.text import TfidfVectorizer, HashingVectorizer, CountVectorizer"
   ]
  },
  {
   "cell_type": "code",
   "execution_count": 3,
   "metadata": {
    "id": "WZ2OPwtS4-10"
   },
   "outputs": [
    {
     "data": {
      "text/html": [
       "<div>\n",
       "<style scoped>\n",
       "    .dataframe tbody tr th:only-of-type {\n",
       "        vertical-align: middle;\n",
       "    }\n",
       "\n",
       "    .dataframe tbody tr th {\n",
       "        vertical-align: top;\n",
       "    }\n",
       "\n",
       "    .dataframe thead th {\n",
       "        text-align: right;\n",
       "    }\n",
       "</style>\n",
       "<table border=\"1\" class=\"dataframe\">\n",
       "  <thead>\n",
       "    <tr style=\"text-align: right;\">\n",
       "      <th></th>\n",
       "      <th>UserName</th>\n",
       "      <th>ScreenName</th>\n",
       "      <th>Location</th>\n",
       "      <th>TweetAt</th>\n",
       "      <th>OriginalTweet</th>\n",
       "      <th>Sentiment</th>\n",
       "    </tr>\n",
       "  </thead>\n",
       "  <tbody>\n",
       "    <tr>\n",
       "      <th>0</th>\n",
       "      <td>3799</td>\n",
       "      <td>48751</td>\n",
       "      <td>London</td>\n",
       "      <td>16-03-2020</td>\n",
       "      <td>@MeNyrbie @Phil_Gahan @Chrisitv https://t.co/i...</td>\n",
       "      <td>Neutral</td>\n",
       "    </tr>\n",
       "    <tr>\n",
       "      <th>1</th>\n",
       "      <td>3800</td>\n",
       "      <td>48752</td>\n",
       "      <td>UK</td>\n",
       "      <td>16-03-2020</td>\n",
       "      <td>advice Talk to your neighbours family to excha...</td>\n",
       "      <td>Positive</td>\n",
       "    </tr>\n",
       "    <tr>\n",
       "      <th>2</th>\n",
       "      <td>3801</td>\n",
       "      <td>48753</td>\n",
       "      <td>Vagabonds</td>\n",
       "      <td>16-03-2020</td>\n",
       "      <td>Coronavirus Australia: Woolworths to give elde...</td>\n",
       "      <td>Positive</td>\n",
       "    </tr>\n",
       "    <tr>\n",
       "      <th>3</th>\n",
       "      <td>3802</td>\n",
       "      <td>48754</td>\n",
       "      <td>NaN</td>\n",
       "      <td>16-03-2020</td>\n",
       "      <td>My food stock is not the only one which is emp...</td>\n",
       "      <td>Positive</td>\n",
       "    </tr>\n",
       "    <tr>\n",
       "      <th>4</th>\n",
       "      <td>3803</td>\n",
       "      <td>48755</td>\n",
       "      <td>NaN</td>\n",
       "      <td>16-03-2020</td>\n",
       "      <td>Me, ready to go at supermarket during the #COV...</td>\n",
       "      <td>Extremely Negative</td>\n",
       "    </tr>\n",
       "  </tbody>\n",
       "</table>\n",
       "</div>"
      ],
      "text/plain": [
       "   UserName  ScreenName   Location     TweetAt  \\\n",
       "0      3799       48751     London  16-03-2020   \n",
       "1      3800       48752         UK  16-03-2020   \n",
       "2      3801       48753  Vagabonds  16-03-2020   \n",
       "3      3802       48754        NaN  16-03-2020   \n",
       "4      3803       48755        NaN  16-03-2020   \n",
       "\n",
       "                                       OriginalTweet           Sentiment  \n",
       "0  @MeNyrbie @Phil_Gahan @Chrisitv https://t.co/i...             Neutral  \n",
       "1  advice Talk to your neighbours family to excha...            Positive  \n",
       "2  Coronavirus Australia: Woolworths to give elde...            Positive  \n",
       "3  My food stock is not the only one which is emp...            Positive  \n",
       "4  Me, ready to go at supermarket during the #COV...  Extremely Negative  "
      ]
     },
     "execution_count": 3,
     "metadata": {},
     "output_type": "execute_result"
    }
   ],
   "source": [
    "# it gave UnicodeDecode error with encoding utf-8 \n",
    "file = \"data/Corona_NLP_train.csv\"\n",
    "df_train = pd.read_csv(file, encoding=\"latin-1\")\n",
    "df_train.head()"
   ]
  },
  {
   "cell_type": "markdown",
   "metadata": {
    "id": "jcGyC86g4-13"
   },
   "source": [
    "*Note: we only really use the `OriginalTweet` and `Sentiment` columns for this assignment.*"
   ]
  },
  {
   "cell_type": "code",
   "execution_count": 4,
   "metadata": {},
   "outputs": [
    {
     "name": "stdout",
     "output_type": "stream",
     "text": [
      "                                               Tweet           Sentiment\n",
      "0                        menyrbie philgahan chrisitv             Neutral\n",
      "1  advice talk neighbour family exchange phone nu...            Positive\n",
      "2  coronavirus australia woolworth give elderly d...            Positive\n",
      "3  food stock one empty please dont panic enough ...            Positive\n",
      "4  ready supermarket covid outbreak paranoid food...  Extremely Negative\n"
     ]
    }
   ],
   "source": [
    "# Q1\n",
    "\n",
    "def preprocessing(inpf):\n",
    "    \"\"\"Input: path to text file (text)\n",
    "       Output: preprocessed txt file\"\"\"\n",
    "    # read file into df\n",
    "    df = pd.read_csv(inpf, encoding=\"latin-1\")\n",
    "    # specify column\n",
    "    OriginalTweet = df[\"OriginalTweet\"] #.head(100) this takes the first 100 rows \n",
    "                                        # I used this in the beginnng to run functions quickly\n",
    "    #specify stopwords\n",
    "    stopwords = nltk.corpus.stopwords.words('english')\n",
    "    signs = [\"\\\\\",'/']\n",
    "    # url tag\n",
    "    urlremover = re.compile(r'http\\S+')\n",
    "    # html tag remover\n",
    "    htmlremover = re.compile('<.*?>|&([a-z0-9]+|#[0-9]{1,6}|#x[0-9a-f]{1,6});')\n",
    "    \n",
    "    # initialize list of lists (each list is tweet)\n",
    "    tokenized = []\n",
    "    \n",
    "    third = []\n",
    "    for line in OriginalTweet:\n",
    "    # Filtering: Remove unecessary character\n",
    "        line = line.strip().lower().translate(line.maketrans(\"\", \"\", string.punctuation))\n",
    "        #print(\"aaa\",line, type(line))\n",
    "        line = re.sub(r'[0-9]+', '', line)\n",
    "    # Tokenizing\n",
    "    # During class I learned about the twitter tokenizer.\n",
    "    # I thought this would be very helpful here and implemented it!\n",
    "        #line = word_tokenize(line)\n",
    "        line = TweetTokenizer().tokenize(line)\n",
    "        \n",
    "    # store in lines in list of lines\n",
    "        tokenized.append(line)\n",
    "        \n",
    "    for tweet in tokenized:\n",
    "        \n",
    "        lemmatized = []\n",
    "        \n",
    "        #print(tweet)\n",
    "        for word in tweet:\n",
    "            #print(word)\n",
    "            word = urlremover.sub(\" \", word)\n",
    "            word = htmlremover.sub(\" \", word)\n",
    "    \n",
    "\n",
    "            if ((len(word) > 2) and (not word in stopwords) and (not word in signs)):\n",
    "            \n",
    "                lemma = nltk.WordNetLemmatizer().lemmatize(word)\n",
    "            \n",
    "                lemmatized.append(lemma)\n",
    "                \n",
    "        # removes Nans and errors\n",
    "        if lemmatized != []:\n",
    "            stuff = \" \".join(lemmatized)\n",
    "            third.append(stuff)\n",
    "\n",
    "    ppdf = pd.DataFrame(third, columns = ['Tweet'])\n",
    "    ppdf['Sentiment'] = df['Sentiment']\n",
    "    return ppdf\n",
    "\n",
    "df_trainpp = preprocessing(\"data/Corona_NLP_train.csv\")\n",
    "print(df_trainpp.head(5))"
   ]
  },
  {
   "cell_type": "markdown",
   "metadata": {
    "id": "eeR26J-N4-15"
   },
   "source": [
    "---"
   ]
  },
  {
   "cell_type": "markdown",
   "metadata": {
    "id": "JyDE26-i4-15"
   },
   "source": [
    "## Question 2 (5 points)\n",
    "\n",
    "**Split your data into a train and a validation set**. You can use 85% for training and 15% for validation, or similar proportions. Remember to shuffle your data before splitting, specifying a seed to be able to replicate your results."
   ]
  },
  {
   "cell_type": "code",
   "execution_count": 6,
   "metadata": {
    "id": "9vWDVkRB4-16"
   },
   "outputs": [
    {
     "name": "stdout",
     "output_type": "stream",
     "text": [
      "                                                Tweet Sentiment\n",
      "49  everything weâre seeing current covid outbrea...   Neutral\n",
      "70                covid thanks making online shopping   Neutral\n",
      "68  coronavirus covid group mum live group need sh...  Positive\n",
      "15  line grocery store unpredictable eating safe a...  Positive\n",
      "39  provide safe shopping experience customer heal...  Positive\n"
     ]
    }
   ],
   "source": [
    "#Q2\n",
    "\n",
    "# random seed = 42 (random_state)\n",
    "\n",
    "traindf, testdf = train_test_split(df_trainpp, test_size=0.20, random_state=42)\n",
    "print(traindf.head(5))"
   ]
  },
  {
   "cell_type": "markdown",
   "metadata": {
    "id": "QpfNtdX04-16"
   },
   "source": [
    "---"
   ]
  },
  {
   "cell_type": "markdown",
   "metadata": {
    "id": "I328Auig4-17"
   },
   "source": [
    "## Question 3 (10 points)\n",
    "\n",
    "Write a function which, given as input a set of predictions and a set of ground truth labels, prints out a **classification report** including:\n",
    "* Name of the method\n",
    "* Accuracy\n",
    "* Precision, recall and F1 measure\n",
    "* An example of a correctly classified datapoint\n",
    "* An example of a wrongly classified datapoint"
   ]
  },
  {
   "cell_type": "code",
   "execution_count": 7,
   "metadata": {
    "id": "uGTHtBPu4-18"
   },
   "outputs": [],
   "source": [
    "# Q3\n",
    "\n",
    "def report(method, data, pred):\n",
    "    \"\"\" Input: classification method,\n",
    "        DataFrame with a column named \"Tweets\" and \"Sentiment\", and the predicted classification\n",
    "    \"\"\"\n",
    "    \n",
    "    truth = data[\"Sentiment\"].reset_index(drop=True)\n",
    "    tweets = data[\"Tweet\"].reset_index(drop=True)\n",
    "    \n",
    "    for i in range(len(truth)):\n",
    "        if truth[i] == pred[i]:\n",
    "            print(\"Example of a correctly classified datapoint:\", tweets[i], \"\\n\")\n",
    "            break\n",
    "            \n",
    "    for i in range(len(truth)):\n",
    "        if truth[i] != pred[i]:\n",
    "            print(\"Example of a wrongly classified datapoint:\", tweets[i], \"\\n\")\n",
    "            break\n",
    "            \n",
    "    print(\"Method: \", method)\n",
    "    print(\"Accuracy: \", accuracy_score(truth, pred))\n",
    "    print(\"Precision: \", precision_score(truth, pred, average = \"weighted\"))\n",
    "    print(\"Recall: \", recall_score(truth, pred, average = \"weighted\"))\n",
    "    print(\"F1 Measure: \", f1_score(truth, pred, average = \"weighted\"))"
   ]
  },
  {
   "cell_type": "markdown",
   "metadata": {
    "id": "PZG3nFTa4-18"
   },
   "source": [
    "---"
   ]
  },
  {
   "cell_type": "markdown",
   "metadata": {
    "id": "YwLrjSBV4-18"
   },
   "source": [
    "# Classifying (55 points)"
   ]
  },
  {
   "cell_type": "markdown",
   "metadata": {
    "id": "n_gI9lIS4-19"
   },
   "source": [
    "## Question 4 (15 points)\n",
    "\n",
    "An important first step when dealing with a real-world task is establishing a **solid baseline**. The baseline allows to a) develop the first full pipeline for your task, and b) to have something to compare against when you develop more advanced models.\n",
    "\n",
    "Pick a method to use as a baseline. *A good option might be a TF-IDF Logistic Regression*. Feel free to use scikit-learn or another library of choice. See [here](https://scikit-learn.org/stable/supervised_learning.html#supervised-learning) for more options.\n",
    "\n",
    "Use your classification report function and the validation set to report on the performance of your baseline. *Pay attention: the validation data only needs to be transformed, and must not be used to fit any transformation. For example, if you have used a TF-IDF vectorizer by fitting it to your train data and then transformed it, use the same fitted vectorizer to transform your validation data.*"
   ]
  },
  {
   "cell_type": "code",
   "execution_count": 8,
   "metadata": {
    "id": "DOyDJ8494-1-"
   },
   "outputs": [],
   "source": [
    "# Q4 \n",
    "\n",
    "tvectorizer = TfidfVectorizer()\n",
    "train_tvectorizer = tvectorizer.fit_transform(traindf[\"Tweet\"])\n",
    "test_tvectorizer = tvectorizer.transform(testdf[\"Tweet\"]) \n",
    "\n",
    "tlogreg = LogisticRegression(solver=\"lbfgs\", max_iter=1000)\n",
    "tlogreg_fit = tlogreg.fit(train_tvectorizer, traindf[\"Sentiment\"])\n"
   ]
  },
  {
   "cell_type": "code",
   "execution_count": 9,
   "metadata": {},
   "outputs": [
    {
     "name": "stdout",
     "output_type": "stream",
     "text": [
      "Example of a correctly classified datapoint: feeling like ethical still stuff like order delivery food online shopping etc ship isolation care package loved one etc covid \n",
      "\n",
      "Example of a wrongly classified datapoint: curious think retail shopper lot online shopping theyre home unable think everyone spooked get extra pair shoe economy onlineshopping coronavirus covid stayhome \n",
      "\n",
      "Method:  Tf-IDF Vectorizer + LogReg\n",
      "Accuracy:  0.15\n",
      "Precision:  0.023684210526315787\n",
      "Recall:  0.15\n",
      "F1 Measure:  0.04090909090909091\n"
     ]
    },
    {
     "name": "stderr",
     "output_type": "stream",
     "text": [
      "/Users/alice/opt/anaconda3/lib/python3.9/site-packages/sklearn/metrics/_classification.py:1248: UndefinedMetricWarning: Precision is ill-defined and being set to 0.0 in labels with no predicted samples. Use `zero_division` parameter to control this behavior.\n",
      "  _warn_prf(average, modifier, msg_start, len(result))\n"
     ]
    }
   ],
   "source": [
    "# input for report: method, dataframe, predicted values\n",
    "report(\"Tf-IDF Vectorizer + LogReg\", testdf, tlogreg_fit.predict(test_tvectorizer))"
   ]
  },
  {
   "cell_type": "markdown",
   "metadata": {
    "id": "EnnmO3Kf4-1-"
   },
   "source": [
    "---"
   ]
  },
  {
   "cell_type": "markdown",
   "metadata": {
    "id": "zOE_ZHLv4-1-"
   },
   "source": [
    "## Question 5 (25 points)\n",
    "\n",
    "Try now to **beat your baseline**. Feel free to use scikit-learn or another library of choice. See [here](https://scikit-learn.org/stable/supervised_learning.html#supervised-learning) for more options.\n",
    "\n",
    "How to beat the baseline? There are many ways:\n",
    "1. You could have a better text representation (e.g., using PPMI instead of TF-IDF, note that this is challenging because there is no ready-made scikit-learn vectorizer for this).\n",
    "2. You can pick a more powerful model (e.g., random forests or SVMs).\n",
    "3. You have to find good hyperparameters for your model, and not just use the default ones.\n",
    "\n",
    "Regarding point 3 above, make sure to perform some hyperparameter searching using [grid search](https://scikit-learn.org/stable/modules/generated/sklearn.model_selection.GridSearchCV.html) or [randomized search](https://scikit-learn.org/stable/modules/generated/sklearn.model_selection.RandomizedSearchCV.html).\n",
    "\n",
    "Use your classification report function and the validation set to report on the performance of your baseline. *Pay attention: the validation data only needs to be transformed, and must not be used to fit any transformation. For example, if you have used a TF-IDF vectorizer by fitting it to your train data and then transformed it, use the same fitted vectorizer to transform your validation data.*"
   ]
  },
  {
   "cell_type": "code",
   "execution_count": 10,
   "metadata": {
    "id": "pIcbBVMO4-1_"
   },
   "outputs": [],
   "source": [
    "# Q5 \n",
    "\n",
    "# 1st Try: Hashing Vectorizer (in the same library as TfidfVectorizer)\n",
    "# However, this gave me the same results as the TfidfVectorizer. \n",
    "# Therefore I exchanged logistic regression to random forest classification. This improved my results.\n",
    "# I also tried SVM's SVR and SVC however these results were the same as the TfidfVectorizer. \n",
    "# Additionally, I tired LinearSVC, hrtr thr results were better, but random forest was best.\n",
    "\n",
    "# Hyperparameters\n",
    "\n",
    "# For the Hashing Vectorizer I tried changing: ngram_range, analyzer, and min_samples_leaf\n",
    "# For both ngram_range and analyzer, I recieved better accuracy and recall, however the precision decreased a lot.\n",
    "# As seen below:\n",
    "\n",
    "# with analyzer='char' or ngram_range=(2,2)\n",
    "#Method:  HashingVectorizer(analyzer='char')\n",
    "#Accuracy:  0.25\n",
    "#Precision:  0.0625\n",
    "#Recall:  0.25\n",
    "#F1 Measure:  0.1\n",
    "\n",
    "#Method:  HashingVectorizer()\n",
    "#Accuracy:  0.2\n",
    "#Precision:  0.16696428571428573\n",
    "#Recall:  0.2\n",
    "#F1 Measure:  0.17513597513597512\n",
    "    \n",
    "# As the precision decreased by 0.1 whereas the accuracy and recall only increased by 0.05, I decided to stick with \n",
    "# the regular Hashing Vectorizer for the best scores.\n",
    "\n",
    "# For Random Forest Classifiers I tried changing: max_features, max_depth, criterion, and bootstrap. \n",
    "# However different adjustmaents performed worse or the same as the current version.\n",
    "\n",
    "hvectorizer = HashingVectorizer()\n",
    "train_hvectorizer = hvectorizer.fit_transform(traindf[\"Tweet\"])\n",
    "test_hvectorizer = hvectorizer.transform(testdf[\"Tweet\"]) \n",
    "\n",
    "# Hashing + logreg\n",
    "hlogreg = LogisticRegression(solver=\"lbfgs\", max_iter=1000) #SVR(), SVC(), or LinearSVC() here\n",
    "hlogreg_fit = hlogreg.fit(train_hvectorizer, traindf[\"Sentiment\"])\n",
    "\n",
    "# Hashing + rfc\n",
    "hrfc = RandomForestClassifier() #SVR(), SVC(), or LinearSVC() here\n",
    "hrfc_fit = hrfc.fit(train_hvectorizer, traindf[\"Sentiment\"])"
   ]
  },
  {
   "cell_type": "code",
   "execution_count": 11,
   "metadata": {},
   "outputs": [],
   "source": [
    "# 2nd Try: Count Vectorizer (in the same library as TfidfVectorizer)\n",
    "# I tried both logistic regression and random forest regression, and the\n",
    "# count vecotrizer with the logistic regression outperforms all previous models!\n",
    "\n",
    "cvectorizer = CountVectorizer()\n",
    "train_cvectorizer = cvectorizer.fit_transform(traindf[\"Tweet\"])\n",
    "test_cvectorizer = cvectorizer.transform(testdf[\"Tweet\"]) \n",
    "\n",
    "# Count + logreg\n",
    "clogreg = LogisticRegression(solver=\"lbfgs\", max_iter=1000)\n",
    "clogreg_fit = clogreg.fit(train_cvectorizer, traindf[\"Sentiment\"])\n",
    "\n",
    "# Counting + rfc\n",
    "crfc = RandomForestClassifier() #SVR(), SVC(), or LinearSVC() here\n",
    "crfc_fit = crfc.fit(train_cvectorizer, traindf[\"Sentiment\"])"
   ]
  },
  {
   "cell_type": "code",
   "execution_count": 12,
   "metadata": {
    "scrolled": false
   },
   "outputs": [
    {
     "name": "stdout",
     "output_type": "stream",
     "text": [
      "Example of a correctly classified datapoint: feeling like ethical still stuff like order delivery food online shopping etc ship isolation care package loved one etc covid \n",
      "\n",
      "Example of a wrongly classified datapoint: curious think retail shopper lot online shopping theyre home unable think everyone spooked get extra pair shoe economy onlineshopping coronavirus covid stayhome \n",
      "\n",
      "Method:  Hashing Vectorizer + LogReg\n",
      "Accuracy:  0.15\n",
      "Precision:  0.023684210526315787\n",
      "Recall:  0.15\n",
      "F1 Measure:  0.04090909090909091\n",
      "Example of a correctly classified datapoint: curious think retail shopper lot online shopping theyre home unable think everyone spooked get extra pair shoe economy onlineshopping coronavirus covid stayhome \n",
      "\n",
      "Example of a wrongly classified datapoint: feeling like ethical still stuff like order delivery food online shopping etc ship isolation care package loved one etc covid \n",
      "\n",
      "Method:  Hashing Vectorizer + RFC\n",
      "Accuracy:  0.15\n",
      "Precision:  0.12250000000000001\n",
      "Recall:  0.15\n",
      "F1 Measure:  0.13146853146853146\n",
      "Example of a correctly classified datapoint: feeling like ethical still stuff like order delivery food online shopping etc ship isolation care package loved one etc covid \n",
      "\n",
      "Example of a wrongly classified datapoint: curious think retail shopper lot online shopping theyre home unable think everyone spooked get extra pair shoe economy onlineshopping coronavirus covid stayhome \n",
      "\n",
      "Method:  Counting Vectorizer + LogReg\n",
      "Accuracy:  0.25\n",
      "Precision:  0.4083333333333333\n",
      "Recall:  0.25\n",
      "F1 Measure:  0.24916666666666668\n",
      "Example of a correctly classified datapoint: feeling like ethical still stuff like order delivery food online shopping etc ship isolation care package loved one etc covid \n",
      "\n",
      "Example of a wrongly classified datapoint: curious think retail shopper lot online shopping theyre home unable think everyone spooked get extra pair shoe economy onlineshopping coronavirus covid stayhome \n",
      "\n",
      "Method:  Counting Vectorizer + RFC\n",
      "Accuracy:  0.15\n",
      "Precision:  0.026470588235294117\n",
      "Recall:  0.15\n",
      "F1 Measure:  0.045\n"
     ]
    },
    {
     "name": "stderr",
     "output_type": "stream",
     "text": [
      "/Users/alice/opt/anaconda3/lib/python3.9/site-packages/sklearn/metrics/_classification.py:1248: UndefinedMetricWarning: Precision is ill-defined and being set to 0.0 in labels with no predicted samples. Use `zero_division` parameter to control this behavior.\n",
      "  _warn_prf(average, modifier, msg_start, len(result))\n",
      "/Users/alice/opt/anaconda3/lib/python3.9/site-packages/sklearn/metrics/_classification.py:1248: UndefinedMetricWarning: Precision is ill-defined and being set to 0.0 in labels with no predicted samples. Use `zero_division` parameter to control this behavior.\n",
      "  _warn_prf(average, modifier, msg_start, len(result))\n",
      "/Users/alice/opt/anaconda3/lib/python3.9/site-packages/sklearn/metrics/_classification.py:1248: UndefinedMetricWarning: Precision is ill-defined and being set to 0.0 in labels with no predicted samples. Use `zero_division` parameter to control this behavior.\n",
      "  _warn_prf(average, modifier, msg_start, len(result))\n"
     ]
    }
   ],
   "source": [
    "# input for report: method, dataframe, predicted values\n",
    "report(\"Hashing Vectorizer + LogReg\", testdf, hlogreg_fit.predict(test_hvectorizer))\n",
    "report(\"Hashing Vectorizer + RFC\", testdf, hrfc_fit.predict(test_hvectorizer))\n",
    "report(\"Counting Vectorizer + LogReg\", testdf, clogreg_fit.predict(test_cvectorizer))\n",
    "report(\"Counting Vectorizer + RFC\", testdf, crfc_fit.predict(test_cvectorizer))"
   ]
  },
  {
   "cell_type": "markdown",
   "metadata": {},
   "source": [
    "As Counting Vectorizer with Logistic Regression performs best, I performed a GridSearch on it below:"
   ]
  },
  {
   "cell_type": "code",
   "execution_count": 14,
   "metadata": {},
   "outputs": [
    {
     "name": "stderr",
     "output_type": "stream",
     "text": [
      "[Parallel(n_jobs=1)]: Using backend SequentialBackend with 1 concurrent workers.\n",
      " This problem is unconstrained.\n",
      "[Parallel(n_jobs=1)]: Done   1 out of   1 | elapsed:    0.0s finished\n",
      "[Parallel(n_jobs=1)]: Using backend SequentialBackend with 1 concurrent workers.\n",
      " This problem is unconstrained.\n",
      "[Parallel(n_jobs=1)]: Done   1 out of   1 | elapsed:    0.0s finished\n",
      "[Parallel(n_jobs=1)]: Using backend SequentialBackend with 1 concurrent workers.\n",
      " This problem is unconstrained.\n",
      "[Parallel(n_jobs=1)]: Done   1 out of   1 | elapsed:    0.0s finished\n",
      "[Parallel(n_jobs=1)]: Using backend SequentialBackend with 1 concurrent workers.\n",
      " This problem is unconstrained.\n",
      "[Parallel(n_jobs=1)]: Done   1 out of   1 | elapsed:    0.0s finished\n",
      "[Parallel(n_jobs=1)]: Using backend SequentialBackend with 1 concurrent workers.\n",
      " This problem is unconstrained.\n",
      "[Parallel(n_jobs=1)]: Done   1 out of   1 | elapsed:    0.0s finished\n",
      "[Parallel(n_jobs=1)]: Using backend SequentialBackend with 1 concurrent workers.\n",
      " This problem is unconstrained.\n",
      "[Parallel(n_jobs=1)]: Done   1 out of   1 | elapsed:    0.0s finished\n",
      "[Parallel(n_jobs=1)]: Using backend SequentialBackend with 1 concurrent workers.\n",
      " This problem is unconstrained.\n"
     ]
    },
    {
     "name": "stdout",
     "output_type": "stream",
     "text": [
      "RUNNING THE L-BFGS-B CODE\n",
      "\n",
      "           * * *\n",
      "\n",
      "Machine precision = 2.220D-16\n",
      " N =         4290     M =           10\n",
      "\n",
      "At X0         0 variables are exactly at the bounds\n",
      "\n",
      "At iterate    0    f=  1.01395D+02    |proj g|=  1.12000D+01\n",
      "\n",
      "           * * *\n",
      "\n",
      "Tit   = total number of iterations\n",
      "Tnf   = total number of function evaluations\n",
      "Tnint = total number of segments explored during Cauchy searches\n",
      "Skip  = number of BFGS updates skipped\n",
      "Nact  = number of active bounds at final generalized Cauchy point\n",
      "Projg = norm of the final projected gradient\n",
      "F     = final function value\n",
      "\n",
      "           * * *\n",
      "\n",
      "   N    Tit     Tnf  Tnint  Skip  Nact     Projg        F\n",
      " 4290     25     27      1     0     0   2.116D-05   2.536D+01\n",
      "  F =   25.363490454605849     \n",
      "\n",
      "CONVERGENCE: NORM_OF_PROJECTED_GRADIENT_<=_PGTOL            \n",
      "RUNNING THE L-BFGS-B CODE\n",
      "\n",
      "           * * *\n",
      "\n",
      "Machine precision = 2.220D-16\n",
      " N =         4290     M =           10\n",
      "\n",
      "At X0         0 variables are exactly at the bounds\n",
      "\n",
      "At iterate    0    f=  1.01395D+02    |proj g|=  1.24000D+01\n",
      "\n",
      "           * * *\n",
      "\n",
      "Tit   = total number of iterations\n",
      "Tnf   = total number of function evaluations\n",
      "Tnint = total number of segments explored during Cauchy searches\n",
      "Skip  = number of BFGS updates skipped\n",
      "Nact  = number of active bounds at final generalized Cauchy point\n",
      "Projg = norm of the final projected gradient\n",
      "F     = final function value\n",
      "\n",
      "           * * *\n",
      "\n",
      "   N    Tit     Tnf  Tnint  Skip  Nact     Projg        F\n",
      " 4290     26     28      1     0     0   6.486D-05   2.504D+01\n",
      "  F =   25.041468770836843     \n",
      "\n",
      "CONVERGENCE: NORM_OF_PROJECTED_GRADIENT_<=_PGTOL            \n",
      "RUNNING THE L-BFGS-B CODE\n",
      "\n",
      "           * * *\n",
      "\n",
      "Machine precision = 2.220D-16\n",
      " N =         4290     M =           10\n",
      "\n",
      "At X0         0 variables are exactly at the bounds\n",
      "\n",
      "At iterate    0    f=  1.01395D+02    |proj g|=  1.00000D+01\n",
      "\n",
      "           * * *\n",
      "\n",
      "Tit   = total number of iterations\n",
      "Tnf   = total number of function evaluations\n",
      "Tnint = total number of segments explored during Cauchy searches\n",
      "Skip  = number of BFGS updates skipped\n",
      "Nact  = number of active bounds at final generalized Cauchy point\n",
      "Projg = norm of the final projected gradient\n",
      "F     = final function value\n",
      "\n",
      "           * * *\n",
      "\n",
      "   N    Tit     Tnf  Tnint  Skip  Nact     Projg        F\n",
      " 4290     23     25      1     0     0   1.315D-04   2.440D+01\n",
      "  F =   24.403516465614672     \n",
      "\n",
      "CONVERGENCE: REL_REDUCTION_OF_F_<=_FACTR*EPSMCH             \n",
      "RUNNING THE L-BFGS-B CODE\n",
      "\n",
      "           * * *\n",
      "\n",
      "Machine precision = 2.220D-16\n",
      " N =         4290     M =           10\n",
      "\n",
      "At X0         0 variables are exactly at the bounds\n",
      "\n",
      "At iterate    0    f=  1.01395D+02    |proj g|=  1.14000D+01\n",
      "\n",
      "           * * *\n",
      "\n",
      "Tit   = total number of iterations\n",
      "Tnf   = total number of function evaluations\n",
      "Tnint = total number of segments explored during Cauchy searches\n",
      "Skip  = number of BFGS updates skipped\n",
      "Nact  = number of active bounds at final generalized Cauchy point\n",
      "Projg = norm of the final projected gradient\n",
      "F     = final function value\n",
      "\n",
      "           * * *\n",
      "\n",
      "   N    Tit     Tnf  Tnint  Skip  Nact     Projg        F\n",
      " 4290     28     30      1     0     0   4.537D-05   2.419D+01\n",
      "  F =   24.186555124993028     \n",
      "\n",
      "CONVERGENCE: NORM_OF_PROJECTED_GRADIENT_<=_PGTOL            \n",
      "RUNNING THE L-BFGS-B CODE\n",
      "\n",
      "           * * *\n",
      "\n",
      "Machine precision = 2.220D-16\n",
      " N =         4290     M =           10\n",
      "\n",
      "At X0         0 variables are exactly at the bounds\n",
      "\n",
      "At iterate    0    f=  1.03004D+02    |proj g|=  1.02000D+01\n",
      "\n",
      "           * * *\n",
      "\n",
      "Tit   = total number of iterations\n",
      "Tnf   = total number of function evaluations\n",
      "Tnint = total number of segments explored during Cauchy searches\n",
      "Skip  = number of BFGS updates skipped\n",
      "Nact  = number of active bounds at final generalized Cauchy point\n",
      "Projg = norm of the final projected gradient\n",
      "F     = final function value\n",
      "\n",
      "           * * *\n",
      "\n",
      "   N    Tit     Tnf  Tnint  Skip  Nact     Projg        F\n",
      " 4290     25     28      1     0     0   3.253D-04   2.632D+01\n",
      "  F =   26.321843877406611     \n",
      "\n",
      "CONVERGENCE: REL_REDUCTION_OF_F_<=_FACTR*EPSMCH             \n",
      "RUNNING THE L-BFGS-B CODE\n",
      "\n",
      "           * * *\n",
      "\n",
      "Machine precision = 2.220D-16\n",
      " N =         4290     M =           10\n",
      "\n",
      "At X0         0 variables are exactly at the bounds\n",
      "\n",
      "At iterate    0    f=  1.01395D+02    |proj g|=  1.12000D+01\n",
      "\n",
      "           * * *\n",
      "\n",
      "Tit   = total number of iterations\n",
      "Tnf   = total number of function evaluations\n",
      "Tnint = total number of segments explored during Cauchy searches\n",
      "Skip  = number of BFGS updates skipped\n",
      "Nact  = number of active bounds at final generalized Cauchy point\n",
      "Projg = norm of the final projected gradient\n",
      "F     = final function value\n",
      "\n",
      "           * * *\n",
      "\n",
      "   N    Tit     Tnf  Tnint  Skip  Nact     Projg        F\n",
      " 4290     25     27      1     0     0   2.116D-05   2.536D+01\n",
      "  F =   25.363490454605849     \n",
      "\n",
      "CONVERGENCE: NORM_OF_PROJECTED_GRADIENT_<=_PGTOL            \n",
      "RUNNING THE L-BFGS-B CODE\n",
      "\n",
      "           * * *\n",
      "\n",
      "Machine precision = 2.220D-16\n",
      " N =         4290     M =           10\n",
      "\n",
      "At X0         0 variables are exactly at the bounds\n",
      "\n",
      "At iterate    0    f=  1.01395D+02    |proj g|=  1.24000D+01\n",
      "\n",
      "           * * *\n",
      "\n",
      "Tit   = total number of iterations\n",
      "Tnf   = total number of function evaluations\n",
      "Tnint = total number of segments explored during Cauchy searches\n",
      "Skip  = number of BFGS updates skipped\n",
      "Nact  = number of active bounds at final generalized Cauchy point\n",
      "Projg = norm of the final projected gradient\n",
      "F     = final function value\n",
      "\n",
      "           * * *\n",
      "\n",
      "   N    Tit     Tnf  Tnint  Skip  Nact     Projg        F\n",
      " 4290     26     28      1     0     0   6.486D-05   2.504D+01\n",
      "  F =   25.041468770836843     \n",
      "\n",
      "CONVERGENCE: NORM_OF_PROJECTED_GRADIENT_<=_PGTOL            \n",
      "RUNNING THE L-BFGS-B CODE\n",
      "\n",
      "           * * *\n",
      "\n",
      "Machine precision = 2.220D-16\n",
      " N =         4290     M =           10\n",
      "\n",
      "At X0         0 variables are exactly at the bounds\n",
      "\n",
      "At iterate    0    f=  1.01395D+02    |proj g|=  1.00000D+01\n",
      "\n",
      "           * * *\n",
      "\n",
      "Tit   = total number of iterations\n",
      "Tnf   = total number of function evaluations\n",
      "Tnint = total number of segments explored during Cauchy searches\n",
      "Skip  = number of BFGS updates skipped\n",
      "Nact  = number of active bounds at final generalized Cauchy point\n",
      "Projg = norm of the final projected gradient\n",
      "F     = final function value\n",
      "\n",
      "           * * *\n",
      "\n",
      "   N    Tit     Tnf  Tnint  Skip  Nact     Projg        F\n",
      " 4290     23     25      1     0     0   1.315D-04   2.440D+01\n",
      "  F =   24.403516465614672     \n",
      "\n",
      "CONVERGENCE: REL_REDUCTION_OF_F_<=_FACTR*EPSMCH             \n",
      "RUNNING THE L-BFGS-B CODE\n",
      "\n",
      "           * * *\n",
      "\n",
      "Machine precision = 2.220D-16\n",
      " N =         4290     M =           10\n",
      "\n",
      "At X0         0 variables are exactly at the bounds\n",
      "\n",
      "At iterate    0    f=  1.01395D+02    |proj g|=  1.14000D+01\n",
      "\n",
      "           * * *\n",
      "\n",
      "Tit   = total number of iterations\n",
      "Tnf   = total number of function evaluations\n",
      "Tnint = total number of segments explored during Cauchy searches\n",
      "Skip  = number of BFGS updates skipped\n",
      "Nact  = number of active bounds at final generalized Cauchy point\n",
      "Projg = norm of the final projected gradient\n",
      "F     = final function value\n",
      "\n",
      "           * * *\n",
      "\n",
      "   N    Tit     Tnf  Tnint  Skip  Nact     Projg        F\n",
      " 4290     28     30      1     0     0   4.537D-05   2.419D+01\n",
      "  F =   24.186555124993028     \n",
      "\n",
      "CONVERGENCE: NORM_OF_PROJECTED_GRADIENT_<=_PGTOL            \n",
      "RUNNING THE L-BFGS-B CODE\n",
      "\n",
      "           * * *\n",
      "\n",
      "Machine precision = 2.220D-16\n",
      " N =         4290     M =           10\n",
      "\n",
      "At X0         0 variables are exactly at the bounds\n",
      "\n",
      "At iterate    0    f=  1.03004D+02    |proj g|=  1.02000D+01\n",
      "\n",
      "           * * *\n",
      "\n",
      "Tit   = total number of iterations\n",
      "Tnf   = total number of function evaluations\n",
      "Tnint = total number of segments explored during Cauchy searches\n",
      "Skip  = number of BFGS updates skipped\n",
      "Nact  = number of active bounds at final generalized Cauchy point\n",
      "Projg = norm of the final projected gradient\n",
      "F     = final function value\n",
      "\n",
      "           * * *\n",
      "\n",
      "   N    Tit     Tnf  Tnint  Skip  Nact     Projg        F\n",
      " 4290     25     28      1     0     0   3.253D-04   2.632D+01\n",
      "  F =   26.321843877406611     \n",
      "\n",
      "CONVERGENCE: REL_REDUCTION_OF_F_<=_FACTR*EPSMCH             \n"
     ]
    },
    {
     "name": "stderr",
     "output_type": "stream",
     "text": [
      "[Parallel(n_jobs=1)]: Done   1 out of   1 | elapsed:    0.0s finished\n",
      "[Parallel(n_jobs=1)]: Using backend SequentialBackend with 1 concurrent workers.\n",
      " This problem is unconstrained.\n",
      "[Parallel(n_jobs=1)]: Done   1 out of   1 | elapsed:    0.0s finished\n",
      "[Parallel(n_jobs=1)]: Using backend SequentialBackend with 1 concurrent workers.\n",
      " This problem is unconstrained.\n",
      "[Parallel(n_jobs=1)]: Done   1 out of   1 | elapsed:    0.0s finished\n",
      "[Parallel(n_jobs=1)]: Using backend SequentialBackend with 1 concurrent workers.\n",
      " This problem is unconstrained.\n",
      "[Parallel(n_jobs=1)]: Done   1 out of   1 | elapsed:    0.0s finished\n"
     ]
    },
    {
     "name": "stdout",
     "output_type": "stream",
     "text": [
      "RUNNING THE L-BFGS-B CODE\n",
      "\n",
      "           * * *\n",
      "\n",
      "Machine precision = 2.220D-16\n",
      " N =         4290     M =           10\n",
      "\n",
      "At X0         0 variables are exactly at the bounds\n",
      "\n",
      "At iterate    0    f=  1.27146D+02    |proj g|=  1.38000D+01\n",
      "\n",
      "           * * *\n",
      "\n",
      "Tit   = total number of iterations\n",
      "Tnf   = total number of function evaluations\n",
      "Tnint = total number of segments explored during Cauchy searches\n",
      "Skip  = number of BFGS updates skipped\n",
      "Nact  = number of active bounds at final generalized Cauchy point\n",
      "Projg = norm of the final projected gradient\n",
      "F     = final function value\n",
      "\n",
      "           * * *\n",
      "\n",
      "   N    Tit     Tnf  Tnint  Skip  Nact     Projg        F\n",
      " 4290     26     30      1     0     0   1.302D-04   3.160D+01\n",
      "  F =   31.601342871270479     \n",
      "\n",
      "CONVERGENCE: REL_REDUCTION_OF_F_<=_FACTR*EPSMCH             \n"
     ]
    },
    {
     "name": "stderr",
     "output_type": "stream",
     "text": [
      "[Parallel(n_jobs=1)]: Using backend SequentialBackend with 1 concurrent workers.\n",
      " This problem is unconstrained.\n",
      "[Parallel(n_jobs=1)]: Done   1 out of   1 | elapsed:    0.0s finished\n"
     ]
    }
   ],
   "source": [
    "# Hyperparameter Grid Search\n",
    "\n",
    "params = {\n",
    "             'solver': [\"lbfgs\"],\n",
    "             'n_jobs': [None],\n",
    "             'multi_class': [\"auto\"],\n",
    "             'max_iter': [100],\n",
    "             \"verbose\": [True, False],\n",
    "             \"warm_start\": [True, False],\n",
    "         }\n",
    "\n",
    "#, param_grid=params\n",
    "\n",
    "clogreg_grid = GridSearchCV(estimator=clogreg_fit, param_grid=params, scoring=\"accuracy\")\n",
    "clogreg_grid_fit = clogreg_grid.fit(train_cvectorizer, traindf[\"Sentiment\"])\n",
    "\n"
   ]
  },
  {
   "cell_type": "code",
   "execution_count": 15,
   "metadata": {},
   "outputs": [
    {
     "name": "stdout",
     "output_type": "stream",
     "text": [
      "Example of a correctly classified datapoint: feeling like ethical still stuff like order delivery food online shopping etc ship isolation care package loved one etc covid \n",
      "\n",
      "Example of a wrongly classified datapoint: curious think retail shopper lot online shopping theyre home unable think everyone spooked get extra pair shoe economy onlineshopping coronavirus covid stayhome \n",
      "\n",
      "Method:  Grid search for Counting Vectorizer with Logistic Regression\n",
      "Accuracy:  0.25\n",
      "Precision:  0.4083333333333333\n",
      "Recall:  0.25\n",
      "F1 Measure:  0.24916666666666668\n"
     ]
    }
   ],
   "source": [
    "report(\"Grid search for Counting Vectorizer with Logistic Regression\", testdf, clogreg_grid_fit.predict(test_cvectorizer))"
   ]
  },
  {
   "cell_type": "markdown",
   "metadata": {
    "id": "S9zmQoa74-1_"
   },
   "source": [
    "---"
   ]
  },
  {
   "cell_type": "markdown",
   "metadata": {
    "id": "fV-1eX7y4-1_"
   },
   "source": [
    "## Question 6 (15 points)\n",
    "\n",
    "Design, develop and train a (simple!) **neural network-based classifier** for this task, using scikit-learn or PyTorch. The classifier can have the structure that you prefer, just make sure to motivate your choices. If in doubt, try with a bag of embeddings classifier.\n",
    "\n",
    "*Note: an NN-based classifier with scikit-learn yields 5 points max; one with PyTorch yields 10 points max; one with PyTorch and pre-trained embeddings yields 15 points max.*\n",
    "\n",
    "Use your classification report function and the validation set to report on the performance of your baseline. *Pay attention: the validation data only needs to be transformed, and must not be used to fit any transformation. For example, if you have used a TF-IDF vectorizer by fitting it to your train data and then transformed it, use the same fitted vectorizer to transform your validation data.*s"
   ]
  },
  {
   "cell_type": "code",
   "execution_count": 16,
   "metadata": {
    "id": "tDn5kJj54-2A"
   },
   "outputs": [
    {
     "name": "stderr",
     "output_type": "stream",
     "text": [
      "/Users/alice/opt/anaconda3/lib/python3.9/site-packages/sklearn/neural_network/_multilayer_perceptron.py:614: ConvergenceWarning: Stochastic Optimizer: Maximum iterations (200) reached and the optimization hasn't converged yet.\n",
      "  warnings.warn(\n"
     ]
    }
   ],
   "source": [
    "# Q6\n",
    "\n",
    "# NN-based classifier with scikit-learn\n",
    "# Reading throught the scikit learn documentation, the only NN-based classifier I could find was the:\n",
    "# Multi-layer Perceptron (MLP) and the Bernoulli Restricted Boltzmann Machine (RBM).\n",
    "\n",
    "# vectorizers are Hashing and Counting defined in Q5\n",
    "\n",
    "# NN-based classifier\n",
    "# with Hashing Vecotrizer\n",
    "hmlp = MLPClassifier() \n",
    "hmlp_fit = hmlp.fit(train_hvectorizer, traindf[\"Sentiment\"])\n",
    "\n",
    "# with Counting Vecotrizer\n",
    "cmlp = MLPClassifier() \n",
    "cmlp_fit = cmlp.fit(train_cvectorizer, traindf[\"Sentiment\"])"
   ]
  },
  {
   "cell_type": "code",
   "execution_count": null,
   "metadata": {},
   "outputs": [],
   "source": [
    "# NN-based approach with tensorflow \n",
    "#import tensorflow as tf\n",
    "\n",
    "# crashes my system\n",
    "\"\"\" \n",
    "model = tf.keras.Sequential([\n",
    "  feature_layer,\n",
    "  layers.Dense(128, activation='relu'),\n",
    "  layers.Dense(128, activation='relu'),\n",
    "  layers.Dropout(.1),\n",
    "  layers.Dense(1)\n",
    "])\n",
    "\n",
    "model.compile(optimizer='adam',\n",
    "              loss=tf.keras.losses.BinaryCrossentropy(from_logits=True),\n",
    "              metrics=['accuracy'])\n",
    "\n",
    "model.fit(traindf,\n",
    "          validation_data=testdf,\n",
    "          epochs=10)\n",
    "\"\"\""
   ]
  },
  {
   "cell_type": "markdown",
   "metadata": {},
   "source": [
    "Source: https://www.tensorflow.org/tutorials/structured_data/feature_columns"
   ]
  },
  {
   "cell_type": "code",
   "execution_count": null,
   "metadata": {},
   "outputs": [],
   "source": [
    "from torch import nn\n",
    "# NN-based approach with pytorch\n",
    "\n",
    "# crashes my system\n",
    "\"\"\" \n",
    "\n",
    "class TextClassificationModel(nn.Module):\n",
    "\n",
    "    def __init__(self, vocab_size, embed_dim, num_class):\n",
    "        super(TextClassificationModel, self).__init__()\n",
    "        self.embedding = nn.EmbeddingBag(vocab_size, embed_dim, sparse=True)\n",
    "        self.fc = nn.Linear(embed_dim, num_class)\n",
    "        self.init_weights()\n",
    "\n",
    "    def init_weights(self):\n",
    "        initrange = 0.5\n",
    "        self.embedding.weight.data.uniform_(-initrange, initrange)\n",
    "        self.fc.weight.data.uniform_(-initrange, initrange)\n",
    "        self.fc.bias.data.zero_()\n",
    "\n",
    "    def forward(self, text, offsets):\n",
    "        embedded = self.embedding(text, offsets)\n",
    "        return self.fc(embedded)\n",
    "\n",
    "tcm = TextClassificationModel()\n",
    "tcm_fit = tcm.fit(train_hvectorizer, traindf[\"Sentiment\"])\n",
    "\"\"\""
   ]
  },
  {
   "cell_type": "markdown",
   "metadata": {},
   "source": [
    "Source: https://pytorch.org/tutorials/beginner/text_sentiment_ngrams_tutorial.html\n",
    "\n",
    "Overall the Counting Vectorizer + MLP performs best:"
   ]
  },
  {
   "cell_type": "code",
   "execution_count": 393,
   "metadata": {},
   "outputs": [
    {
     "name": "stdout",
     "output_type": "stream",
     "text": [
      "len pred 20\n",
      "len truth 20\n",
      "Example of a correctly classified datapoint: followed went shopping day ago pain necessary protect grocery shopping consumer report covid stayhealthy \n",
      "\n",
      "Example of a wrongly classified datapoint: feeling like ethical still stuff like order delivery food online shopping etc ship isolation care package loved one etc covid \n",
      "\n",
      "Method:  Hashing Vectorizer + MLP\n",
      "Accuracy:  0.15\n",
      "Precision:  0.17613636363636362\n",
      "Recall:  0.15\n",
      "F1 Measure:  0.14365079365079367\n",
      "len pred 20\n",
      "len truth 20\n",
      "Example of a correctly classified datapoint: followed went shopping day ago pain necessary protect grocery shopping consumer report covid stayhealthy \n",
      "\n",
      "Example of a wrongly classified datapoint: feeling like ethical still stuff like order delivery food online shopping etc ship isolation care package loved one etc covid \n",
      "\n",
      "Method:  Counting Vectorizer + MLP\n",
      "Accuracy:  0.15\n",
      "Precision:  0.31875\n",
      "Recall:  0.15\n",
      "F1 Measure:  0.17393939393939395\n"
     ]
    },
    {
     "name": "stderr",
     "output_type": "stream",
     "text": [
      "/Users/alice/opt/anaconda3/lib/python3.9/site-packages/sklearn/metrics/_classification.py:1248: UndefinedMetricWarning: Precision is ill-defined and being set to 0.0 in labels with no predicted samples. Use `zero_division` parameter to control this behavior.\n",
      "  _warn_prf(average, modifier, msg_start, len(result))\n"
     ]
    }
   ],
   "source": [
    "# input for report: method, dataframe, predicted values\n",
    "report(\"Hashing Vectorizer + MLP\", testdf, hmlp_fit.predict(test_hvectorizer))\n",
    "report(\"Counting Vectorizer + MLP\", testdf, cmlp_fit.predict(test_cvectorizer))"
   ]
  },
  {
   "cell_type": "markdown",
   "metadata": {
    "id": "A8K-n8Ak4-2A"
   },
   "source": [
    "---"
   ]
  },
  {
   "cell_type": "markdown",
   "metadata": {
    "id": "hjiTUFSZ4-2A"
   },
   "source": [
    "# Evaluating your classifiers (20 points)"
   ]
  },
  {
   "cell_type": "markdown",
   "metadata": {
    "id": "H9JXwtnF4-2B"
   },
   "source": [
    "## Question 7 (10 points)\n",
    "\n",
    "Evaluate the performance of your models on the **test set**. Make sure to transform your test data as you did for your train data, and as needed for each classifier. *Pay attention: the test data only needs to be transformed, and must not be used to fit any transformation. For example, if you have used a TF-IDF vectorizer by fitting it to your train data and then transformed your train and validation with it, use the same fitted vectorizer to transform your test data.*\n",
    "\n",
    "* Report the accuracy of each classifier, as well as its precision, recall and F1 score. \n",
    "* Plot a [confusion matrix](https://scikit-learn.org/stable/auto_examples/model_selection/plot_confusion_matrix.html) for your best classifier.\n",
    "* Briefly discuss your results."
   ]
  },
  {
   "cell_type": "code",
   "execution_count": 292,
   "metadata": {
    "id": "FDr66A_j4-2B"
   },
   "outputs": [
    {
     "data": {
      "text/html": [
       "<div>\n",
       "<style scoped>\n",
       "    .dataframe tbody tr th:only-of-type {\n",
       "        vertical-align: middle;\n",
       "    }\n",
       "\n",
       "    .dataframe tbody tr th {\n",
       "        vertical-align: top;\n",
       "    }\n",
       "\n",
       "    .dataframe thead th {\n",
       "        text-align: right;\n",
       "    }\n",
       "</style>\n",
       "<table border=\"1\" class=\"dataframe\">\n",
       "  <thead>\n",
       "    <tr style=\"text-align: right;\">\n",
       "      <th></th>\n",
       "      <th>UserName</th>\n",
       "      <th>ScreenName</th>\n",
       "      <th>Location</th>\n",
       "      <th>TweetAt</th>\n",
       "      <th>OriginalTweet</th>\n",
       "      <th>Sentiment</th>\n",
       "    </tr>\n",
       "  </thead>\n",
       "  <tbody>\n",
       "    <tr>\n",
       "      <th>0</th>\n",
       "      <td>1</td>\n",
       "      <td>44953</td>\n",
       "      <td>NYC</td>\n",
       "      <td>02-03-2020</td>\n",
       "      <td>TRENDING: New Yorkers encounter empty supermar...</td>\n",
       "      <td>Extremely Negative</td>\n",
       "    </tr>\n",
       "    <tr>\n",
       "      <th>1</th>\n",
       "      <td>2</td>\n",
       "      <td>44954</td>\n",
       "      <td>Seattle, WA</td>\n",
       "      <td>02-03-2020</td>\n",
       "      <td>When I couldn't find hand sanitizer at Fred Me...</td>\n",
       "      <td>Positive</td>\n",
       "    </tr>\n",
       "    <tr>\n",
       "      <th>2</th>\n",
       "      <td>3</td>\n",
       "      <td>44955</td>\n",
       "      <td>NaN</td>\n",
       "      <td>02-03-2020</td>\n",
       "      <td>Find out how you can protect yourself and love...</td>\n",
       "      <td>Extremely Positive</td>\n",
       "    </tr>\n",
       "    <tr>\n",
       "      <th>3</th>\n",
       "      <td>4</td>\n",
       "      <td>44956</td>\n",
       "      <td>Chicagoland</td>\n",
       "      <td>02-03-2020</td>\n",
       "      <td>#Panic buying hits #NewYork City as anxious sh...</td>\n",
       "      <td>Negative</td>\n",
       "    </tr>\n",
       "    <tr>\n",
       "      <th>4</th>\n",
       "      <td>5</td>\n",
       "      <td>44957</td>\n",
       "      <td>Melbourne, Victoria</td>\n",
       "      <td>03-03-2020</td>\n",
       "      <td>#toiletpaper #dunnypaper #coronavirus #coronav...</td>\n",
       "      <td>Neutral</td>\n",
       "    </tr>\n",
       "  </tbody>\n",
       "</table>\n",
       "</div>"
      ],
      "text/plain": [
       "   UserName  ScreenName             Location     TweetAt  \\\n",
       "0         1       44953                  NYC  02-03-2020   \n",
       "1         2       44954          Seattle, WA  02-03-2020   \n",
       "2         3       44955                  NaN  02-03-2020   \n",
       "3         4       44956          Chicagoland  02-03-2020   \n",
       "4         5       44957  Melbourne, Victoria  03-03-2020   \n",
       "\n",
       "                                       OriginalTweet           Sentiment  \n",
       "0  TRENDING: New Yorkers encounter empty supermar...  Extremely Negative  \n",
       "1  When I couldn't find hand sanitizer at Fred Me...            Positive  \n",
       "2  Find out how you can protect yourself and love...  Extremely Positive  \n",
       "3  #Panic buying hits #NewYork City as anxious sh...            Negative  \n",
       "4  #toiletpaper #dunnypaper #coronavirus #coronav...             Neutral  "
      ]
     },
     "execution_count": 292,
     "metadata": {},
     "output_type": "execute_result"
    }
   ],
   "source": [
    "df_test = pd.read_csv(\"data/Corona_NLP_test.csv\", encoding=\"latin-1\")\n",
    "df_test.head()"
   ]
  },
  {
   "cell_type": "code",
   "execution_count": 314,
   "metadata": {
    "id": "WFviO9dr4-2B"
   },
   "outputs": [
    {
     "name": "stdout",
     "output_type": "stream",
     "text": [
      "                                               Tweet           Sentiment\n",
      "0  trending new yorkers encounter empty supermark...  Extremely Negative\n",
      "1  couldnt find hand sanitizer fred meyer turned ...            Positive\n",
      "2                 find protect loved one coronavirus  Extremely Positive\n",
      "3  panic buying hit newyork city anxious shopper ...            Negative\n",
      "4  toiletpaper dunnypaper coronavirus coronavirus...             Neutral\n"
     ]
    }
   ],
   "source": [
    "# Q7\n",
    "# pre-processing df_test\n",
    "def preprocessing(inpf):\n",
    "    \"\"\"Input: path to text file (text)\n",
    "       Output: preprocessed txt file\"\"\"\n",
    "    # read file into df\n",
    "    df = pd.read_csv(inpf, encoding=\"latin-1\")\n",
    "    # specify column\n",
    "    OriginalTweet = df[\"OriginalTweet\"].head(100)\n",
    "    #specify stopwords\n",
    "    stopwords = nltk.corpus.stopwords.words('english')\n",
    "    signs = [\"\\\\\",'/']\n",
    "    # url tag\n",
    "    urlremover = re.compile(r'http\\S+')\n",
    "    # html tag remover\n",
    "    htmlremover = re.compile('<.*?>|&([a-z0-9]+|#[0-9]{1,6}|#x[0-9a-f]{1,6});')\n",
    "    \n",
    "    # initialize list of lists (each list is tweet)\n",
    "    tokenized = []\n",
    "    \n",
    "    third = []\n",
    "    for line in OriginalTweet:\n",
    "    # Filtering: Remove unecessary character\n",
    "        line = line.strip().lower().translate(line.maketrans(\"\", \"\", string.punctuation))\n",
    "        #print(\"aaa\",line, type(line))\n",
    "        line = re.sub(r'[0-9]+', '', line)\n",
    "    # Tokenizing\n",
    "        line = word_tokenize(line)\n",
    "    # store in lines in list of lines\n",
    "        tokenized.append(line)\n",
    "        \n",
    "    for tweet in tokenized:\n",
    "        \n",
    "        lemmatized = []\n",
    "        \n",
    "        #print(tweet)\n",
    "        for word in tweet:\n",
    "            #print(word)\n",
    "            word = urlremover.sub(\" \", word)\n",
    "            word = htmlremover.sub(\" \", word)\n",
    "    \n",
    "\n",
    "            if ((len(word) > 2) and (not word in stopwords) and (not word in signs)):\n",
    "            \n",
    "                lemma = nltk.WordNetLemmatizer().lemmatize(word)\n",
    "            \n",
    "                lemmatized.append(lemma)\n",
    "                \n",
    "        # removes Nans and errors\n",
    "        if lemmatized != []:\n",
    "            stuff = \" \".join(lemmatized)\n",
    "            third.append(stuff)\n",
    "\n",
    "    ppdf = pd.DataFrame(third, columns = ['Tweet'])\n",
    "    ppdf['Sentiment'] = df['Sentiment']\n",
    "    return ppdf\n",
    "\n",
    "print(preprocessing(\"data/Corona_NLP_test.csv\").head(5))\n",
    "\n",
    "df_test2pp = preprocessing(\"data/Corona_NLP_test.csv\")"
   ]
  },
  {
   "cell_type": "code",
   "execution_count": 315,
   "metadata": {},
   "outputs": [],
   "source": [
    "# transforming new test data\n",
    "test2_tvectorizer = tvectorizer.transform(df_test2pp[\"Tweet\"]) \n",
    "test2_hvectorizer = hvectorizer.transform(df_test2pp[\"Tweet\"]) \n",
    "test2_cvectorizer = cvectorizer.transform(df_test2pp[\"Tweet\"]) \n",
    "test2_hvectorizer = hvectorizer.transform(df_test2pp[\"Tweet\"]) "
   ]
  },
  {
   "cell_type": "code",
   "execution_count": 328,
   "metadata": {
    "scrolled": false
   },
   "outputs": [
    {
     "name": "stdout",
     "output_type": "stream",
     "text": [
      "len pred 100\n",
      "len truth 100\n",
      "Example of a correctly classified datapoint: couldnt find hand sanitizer fred meyer turned amazon pack purellcheck coronavirus concern driving price \n",
      "\n",
      "Example of a wrongly classified datapoint: trending new yorkers encounter empty supermarket shelf pictured wegmans brooklyn soldout online grocer foodkick maxdelivery coronavirusfearing shopper stock \n",
      "\n",
      "Method:  Tf-IDF Vectorizer + LogReg\n",
      "Accuracy:  0.21\n",
      "Precision:  0.0441\n",
      "Recall:  0.21\n",
      "F1 Measure:  0.07289256198347108\n",
      "len pred 100\n",
      "len truth 100\n",
      "Example of a correctly classified datapoint: couldnt find hand sanitizer fred meyer turned amazon pack purellcheck coronavirus concern driving price \n",
      "\n",
      "Example of a wrongly classified datapoint: trending new yorkers encounter empty supermarket shelf pictured wegmans brooklyn soldout online grocer foodkick maxdelivery coronavirusfearing shopper stock \n",
      "\n",
      "Method:  Hashing Vectorizer + LogReg\n",
      "Accuracy:  0.21\n",
      "Precision:  0.0441\n",
      "Recall:  0.21\n",
      "F1 Measure:  0.07289256198347108\n",
      "len pred 100\n",
      "len truth 100\n",
      "Example of a correctly classified datapoint: couldnt find hand sanitizer fred meyer turned amazon pack purellcheck coronavirus concern driving price \n",
      "\n",
      "Example of a wrongly classified datapoint: trending new yorkers encounter empty supermarket shelf pictured wegmans brooklyn soldout online grocer foodkick maxdelivery coronavirusfearing shopper stock \n",
      "\n",
      "Method:  Hashing Vectorizer + RFC\n",
      "Accuracy:  0.17\n",
      "Precision:  0.16111795774647888\n",
      "Recall:  0.17\n",
      "F1 Measure:  0.12008130999435346\n",
      "len pred 100\n",
      "len truth 100\n",
      "Example of a correctly classified datapoint: couldnt find hand sanitizer fred meyer turned amazon pack purellcheck coronavirus concern driving price \n",
      "\n",
      "Example of a wrongly classified datapoint: trending new yorkers encounter empty supermarket shelf pictured wegmans brooklyn soldout online grocer foodkick maxdelivery coronavirusfearing shopper stock \n",
      "\n",
      "Method:  Counting Vectorizer + LogReg\n",
      "Accuracy:  0.18\n",
      "Precision:  0.15514705882352942\n",
      "Recall:  0.18\n",
      "F1 Measure:  0.13103492429335126\n",
      "len pred 100\n",
      "len truth 100\n",
      "Example of a correctly classified datapoint: couldnt find hand sanitizer fred meyer turned amazon pack purellcheck coronavirus concern driving price \n",
      "\n",
      "Example of a wrongly classified datapoint: trending new yorkers encounter empty supermarket shelf pictured wegmans brooklyn soldout online grocer foodkick maxdelivery coronavirusfearing shopper stock \n",
      "\n",
      "Method:  Counting Vectorizer + RFC\n",
      "Accuracy:  0.22\n",
      "Precision:  0.1134375\n",
      "Recall:  0.22\n",
      "F1 Measure:  0.09280397022332507\n",
      "len pred 100\n",
      "len truth 100\n",
      "Example of a correctly classified datapoint: trending new yorkers encounter empty supermarket shelf pictured wegmans brooklyn soldout online grocer foodkick maxdelivery coronavirusfearing shopper stock \n",
      "\n",
      "Example of a wrongly classified datapoint: find protect loved one coronavirus \n",
      "\n",
      "Method:  Hashing Vectorizer + MLP\n",
      "Accuracy:  0.21\n",
      "Precision:  0.19522704658525555\n",
      "Recall:  0.21\n",
      "F1 Measure:  0.15588101100351553\n",
      "len pred 100\n",
      "len truth 100\n",
      "Example of a correctly classified datapoint: trending new yorkers encounter empty supermarket shelf pictured wegmans brooklyn soldout online grocer foodkick maxdelivery coronavirusfearing shopper stock \n",
      "\n",
      "Example of a wrongly classified datapoint: find protect loved one coronavirus \n",
      "\n",
      "Method:  Counting Vectorizer + MLP\n",
      "Accuracy:  0.19\n",
      "Precision:  0.1998076923076923\n",
      "Recall:  0.19\n",
      "F1 Measure:  0.15394086021505377\n"
     ]
    },
    {
     "name": "stderr",
     "output_type": "stream",
     "text": [
      "/Users/alice/opt/anaconda3/lib/python3.9/site-packages/sklearn/metrics/_classification.py:1248: UndefinedMetricWarning: Precision is ill-defined and being set to 0.0 in labels with no predicted samples. Use `zero_division` parameter to control this behavior.\n",
      "  _warn_prf(average, modifier, msg_start, len(result))\n",
      "/Users/alice/opt/anaconda3/lib/python3.9/site-packages/sklearn/metrics/_classification.py:1248: UndefinedMetricWarning: Precision is ill-defined and being set to 0.0 in labels with no predicted samples. Use `zero_division` parameter to control this behavior.\n",
      "  _warn_prf(average, modifier, msg_start, len(result))\n",
      "/Users/alice/opt/anaconda3/lib/python3.9/site-packages/sklearn/metrics/_classification.py:1248: UndefinedMetricWarning: Precision is ill-defined and being set to 0.0 in labels with no predicted samples. Use `zero_division` parameter to control this behavior.\n",
      "  _warn_prf(average, modifier, msg_start, len(result))\n",
      "/Users/alice/opt/anaconda3/lib/python3.9/site-packages/sklearn/metrics/_classification.py:1248: UndefinedMetricWarning: Precision is ill-defined and being set to 0.0 in labels with no predicted samples. Use `zero_division` parameter to control this behavior.\n",
      "  _warn_prf(average, modifier, msg_start, len(result))\n"
     ]
    }
   ],
   "source": [
    "# Reports for each classifier\n",
    "# from Q4\n",
    "report(\"Tf-IDF Vectorizer + LogReg\", df_test2pp, tlogreg_fit.predict(test2_tvectorizer))\n",
    "\n",
    "# from Q5\n",
    "report(\"Hashing Vectorizer + LogReg\", df_test2pp, hlogreg_fit.predict(test2_hvectorizer))\n",
    "report(\"Hashing Vectorizer + RFC\", df_test2pp, hrfc_fit.predict(test2_hvectorizer))\n",
    "report(\"Counting Vectorizer + LogReg\", df_test2pp, clogreg_fit.predict(test2_cvectorizer))\n",
    "report(\"Counting Vectorizer + RFC\", df_test2pp, crfc_fit.predict(test2_cvectorizer))\n",
    "\n",
    "# from Q6\n",
    "report(\"Hashing Vectorizer + MLP\", df_test2pp, hmlp_fit.predict(test2_hvectorizer))\n",
    "report(\"Counting Vectorizer + MLP\", df_test2pp, cmlp_fit.predict(test2_cvectorizer))"
   ]
  },
  {
   "cell_type": "markdown",
   "metadata": {},
   "source": [
    "Discussion and Further Research\n",
    "Here, on the test data csv, the best model is the Hashing Vectorizer with the MLP approach.\n",
    "This is interesting as the best model on the train data csv was the Counting Vectorizer with Logistic Regression.\n",
    "It makes sense that the Neural network (MLP) approach yields better results. However, the counting vectorizer with logistic regression on the train data csv beats the hashing vectorizer with mlp on the test data, as shown below:\n",
    "\n",
    "Method:  Counting Vectorizer + LogReg\n",
    "Accuracy:  0.25\n",
    "Precision:  0.4083333333333333\n",
    "Recall:  0.25\n",
    "F1 Measure:  0.24916666666666668\n",
    "len pred 20\n",
    "len truth 20\n",
    "\n",
    "I don't know why the train data csv tends to have models with better results. To show this I tested the MLP appraoch with the Hashing & Counting Vectorizer on the test data csv aswell. The results for both the hasing and counting vectorizer with MLP on the train csv are still lower than with logistic regression. Maybe this is because better hyperparameters need to be set up for MLP to make it perform its best. \n",
    "\n",
    "The results are seen below:"
   ]
  },
  {
   "cell_type": "code",
   "execution_count": 397,
   "metadata": {},
   "outputs": [
    {
     "name": "stdout",
     "output_type": "stream",
     "text": [
      "len pred 20\n",
      "len truth 20\n",
      "Example of a correctly classified datapoint: followed went shopping day ago pain necessary protect grocery shopping consumer report covid stayhealthy \n",
      "\n",
      "Example of a wrongly classified datapoint: feeling like ethical still stuff like order delivery food online shopping etc ship isolation care package loved one etc covid \n",
      "\n",
      "Method:  Hashing Vectorizer + MLP on train csv\n",
      "Accuracy:  0.15\n",
      "Precision:  0.17613636363636362\n",
      "Recall:  0.15\n",
      "F1 Measure:  0.14365079365079367\n",
      "len pred 20\n",
      "len truth 20\n",
      "Example of a correctly classified datapoint: followed went shopping day ago pain necessary protect grocery shopping consumer report covid stayhealthy \n",
      "\n",
      "Example of a wrongly classified datapoint: feeling like ethical still stuff like order delivery food online shopping etc ship isolation care package loved one etc covid \n",
      "\n",
      "Method:  Counting Vectorizer + MLP on train csv\n",
      "Accuracy:  0.15\n",
      "Precision:  0.31875\n",
      "Recall:  0.15\n",
      "F1 Measure:  0.17393939393939395\n"
     ]
    },
    {
     "name": "stderr",
     "output_type": "stream",
     "text": [
      "/Users/alice/opt/anaconda3/lib/python3.9/site-packages/sklearn/metrics/_classification.py:1248: UndefinedMetricWarning: Precision is ill-defined and being set to 0.0 in labels with no predicted samples. Use `zero_division` parameter to control this behavior.\n",
      "  _warn_prf(average, modifier, msg_start, len(result))\n"
     ]
    }
   ],
   "source": [
    "report(\"Hashing Vectorizer + MLP on train csv\", testdf, hmlp_fit.predict(test_hvectorizer))\n",
    "report(\"Counting Vectorizer + MLP on train csv\", testdf, cmlp_fit.predict(test_cvectorizer))"
   ]
  },
  {
   "cell_type": "code",
   "execution_count": 330,
   "metadata": {},
   "outputs": [],
   "source": [
    "# confusion matrix for best classifier: Hashing + MLP\n",
    "\n",
    "def plot_confusion_matrix(test_labels, test_predictions, label_vocab):\n",
    "    # we take all label strings\n",
    "    labels = label_vocab\n",
    "    \n",
    "    # calculate the confusion matrix and normalize it\n",
    "    cm = metrics.confusion_matrix(test_labels, test_predictions, labels=labels)\n",
    "    cm = cm.astype('float') / (cm.sum(axis=1)[:, np.newaxis] + 1) # we add 1 to avoid division by zero\n",
    "\n",
    "    # plot the confusion matrix using seaborn heatmap\n",
    "    sns_heatmap = sns.heatmap(\n",
    "        cm,\n",
    "        cmap='RdYlGn_r',\n",
    "        square=True,\n",
    "        vmin=0,\n",
    "        vmax=1)\n",
    "\n",
    "    # beautify the plot so that it has better readability\n",
    "    plt.ylim(0, len(labels) + 0.5)\n",
    "    plt.ylim(0, len(labels) + 0.5)\n",
    "    plt.xlabel('Predicted values', labelpad=20)\n",
    "    plt.ylabel('True values')\n",
    "\n",
    "    sns_heatmap.set_yticklabels(labels, rotation=0)\n",
    "    sns_heatmap.set_xticklabels(labels, rotation=45, horizontalalignment='right')\n",
    "\n",
    "    plt.show()"
   ]
  },
  {
   "cell_type": "code",
   "execution_count": 331,
   "metadata": {
    "scrolled": true
   },
   "outputs": [
    {
     "data": {
      "image/png": "[encoded data removed]",
      "text/plain": [
       "<Figure size 432x288 with 2 Axes>"
      ]
     },
     "metadata": {
      "needs_background": "light"
     },
     "output_type": "display_data"
    }
   ],
   "source": [
    "targets = [\"Extremely Positive\", \"Positive\" , \"Neutral\", \"Negative\", \"Extremely Negative\" ]\n",
    "plot_confusion_matrix(df_test2pp[\"Sentiment\"], hmlp_fit.predict(test2_hvectorizer), targets)"
   ]
  },
  {
   "cell_type": "markdown",
   "metadata": {},
   "source": [
    "Discussion\n",
    "\n",
    "I find it interesting that the combination of vectorizer and classifier is so important. It is not the case that one classifier or vectorizer always outperforms the others. Depending what they are paired with they perform better or worse.\n",
    "\n",
    "Furthermore, it is interesting to see that the group with the most occurences is when it was predicted positive. The tile with the most occurences within that was predicted positive and ground truth neutral.\n",
    "\n",
    "Sources: Confusion matrix code from notebooks 8_1"
   ]
  },
  {
   "cell_type": "markdown",
   "metadata": {
    "id": "JRm9J4-o4-2C"
   },
   "source": [
    "---"
   ]
  },
  {
   "cell_type": "markdown",
   "metadata": {
    "collapsed": true,
    "id": "nKxvAsxg4-2C"
   },
   "source": [
    "## Question 8 (10 points)\n",
    "\n",
    "When the results of two models are similar, and anyway as a good practice, you may want to test whether their results **differ significantly**. If you can afford to do multiple paired runs of both models on different slices of the data (or different samples), a good approach is the [Wilcoxon signed-rank test](https://docs.scipy.org/doc/scipy/reference/generated/scipy.stats.wilcoxon.html).\n",
    "\n",
    "* Select two (or more) of your classifiers which have somewhat similar results on your validation data. Make sure to select two methods which do not take too long to run.\n",
    "* Merge your train and validation data, and implement a function to shuffle and sample a % of datapoints (with labels) from it.\n",
    "* Iterate 5-10 times the following steps:\n",
    "   - Shuffle and sample 80% of your training datapoints.\n",
    "   - Train instances of the two classifiers on the same 80% sample.\n",
    "   - Assess their accuracy on the test dataset and store these results (into two separate lists for each classifier).\n",
    "* Perform a Wilcoxon test on these results and discuss whether the two classifiers are significantly different on this task and dataset."
   ]
  },
  {
   "cell_type": "code",
   "execution_count": 388,
   "metadata": {
    "id": "ONz1PmOM4-2E",
    "scrolled": false
   },
   "outputs": [
    {
     "name": "stdout",
     "output_type": "stream",
     "text": [
      "number of rows being merged: \n",
      "no. of train rows   + no. of test rows = no. of toal merged rows\n",
      "99                  +              100 = 199 \n",
      "\n",
      "logreg accuracy scores: [0.25, 0.225, 0.2, 0.2, 0.2, 0.125, 0.2, 0.3, 0.225, 0.2] \n",
      "   rfc accuracy scores: [0.175, 0.2, 0.15, 0.2, 0.2, 0.15, 0.175, 0.2, 0.15, 0.225]\n"
     ]
    }
   ],
   "source": [
    "# Q8\n",
    "\n",
    "# I selected Logistic Regression and Random Forest Regression for the Counting Vectorizor\n",
    "\n",
    "# Merge train and validation data\n",
    "# train data is df_train = pd.read_csv(file, encoding=\"latin-1\")\n",
    "# validation (test) df_test = data is pd.read_csv(\"data/Corona_NLP_test.csv\", encoding=\"latin-1\")\n",
    "\n",
    "# their pre-processed versions\n",
    "# train data = df_trainpp\n",
    "# test data = df_test2pp\n",
    "\n",
    "# Merge\n",
    "dfmerge = df_trainpp.append(df_test2pp)\n",
    "print(\"number of rows being merged: \\nno. of train rows   + no. of test rows = no. of toal merged rows\")\n",
    "print(len(df_trainpp), \"                 +             \", len(df_test2pp), \"=\", len(dfmerge), \"\\n\")\n",
    "\n",
    "\"\"\"\n",
    "OLD version:\n",
    "These are two old functions I wrote for shuffling the data, however, I realized it would be simplest\n",
    "to do it within the iteration function.\n",
    "\n",
    "def shufflesample(data, perc):\n",
    "    nrows = (perc * len(data))/100\n",
    "    return data.sample(nrows)\n",
    "    \n",
    "def shufflesample(data,perc,randstate):\n",
    "    Input: dataframe, percentage of rows that the test set should have, and a random number for a random state\n",
    "       Output: randomly sampled train and test sets (from shuffled data)\n",
    "    trainset, testset = train_test_split(data, test_size=0.20, random_state=randstate)\n",
    "    return trainset, testset\n",
    "\"\"\"\n",
    "    \n",
    "def iter10(data):\n",
    "    \"\"\"Input: dataframe\n",
    "       Output: does this 10 times: \n",
    "       shuffles and samples data, trains logistic regression and random forest regression on random train set and tests them on random test set\n",
    "       for all 10 iterations the accuacy of the classifiers is stored in 2 lists\n",
    "       (1st list is log reg accuracy scores\n",
    "        2nd list is rfc accuracy scores)\"\"\"\n",
    "    # Make 1 list for each classifier's accuracy score from the report function\n",
    "    logreg_acc = []\n",
    "    rfc_acc = []\n",
    "    \n",
    "    for i in range(10):\n",
    "        # random sample\n",
    "        trainset, testset = train_test_split(dfmerge, test_size=0.20, random_state=i)\n",
    "        \n",
    "        # training and fitting counting vectorizer to new train & test set\n",
    "        # cvectorizer was defined in questions above as Counting Vectorizer\n",
    "        trainset_cvectorizer = cvectorizer.fit_transform(trainset[\"Tweet\"])\n",
    "        testset_cvectorizer = cvectorizer.transform(testset[\"Tweet\"]) \n",
    "\n",
    "        # fitting both classifiers\n",
    "        clogreg_trainset_fit = LogisticRegression(solver=\"lbfgs\", max_iter=1000).fit(trainset_cvectorizer, trainset[\"Sentiment\"])\n",
    "        crfc_trainset_fit = RandomForestClassifier().fit(trainset_cvectorizer, trainset[\"Sentiment\"])\n",
    "        \n",
    "        # setting ground truth and prediction\n",
    "        truth = testset[\"Sentiment\"]\n",
    "        predlogreg = clogreg_trainset_fit.predict(testset_cvectorizer)\n",
    "        predrfc = crfc_trainset_fit.predict(testset_cvectorizer)\n",
    "        \n",
    "        # calculating accuracy score\n",
    "        alogreg = accuracy_score(truth, predlogreg)\n",
    "        arfc = accuracy_score(truth, predrfc)\n",
    "        \n",
    "        # adding accuracy scores to lists\n",
    "        logreg_acc.append(alogreg)\n",
    "        rfc_acc.append(arfc)\n",
    "    return logreg_acc, rfc_acc\n",
    "        \n",
    "it10 = iter10(dfmerge)\n",
    "print(\"logreg accuracy scores:\", it10[0],\"\\n   rfc accuracy scores:\", it10[1])"
   ]
  },
  {
   "cell_type": "code",
   "execution_count": 389,
   "metadata": {},
   "outputs": [
    {
     "name": "stdout",
     "output_type": "stream",
     "text": [
      "P-value : 0.048550746423148196\n"
     ]
    },
    {
     "name": "stderr",
     "output_type": "stream",
     "text": [
      "/Users/alice/opt/anaconda3/lib/python3.9/site-packages/scipy/stats/morestats.py:3141: UserWarning: Exact p-value calculation does not work if there are ties. Switching to normal approximation.\n",
      "  warnings.warn(\"Exact p-value calculation does not work if there are \"\n",
      "/Users/alice/opt/anaconda3/lib/python3.9/site-packages/scipy/stats/morestats.py:3155: UserWarning: Sample size too small for normal approximation.\n",
      "  warnings.warn(\"Sample size too small for normal approximation.\")\n"
     ]
    }
   ],
   "source": [
    "# Wilcoxon signed-rank test\n",
    "\n",
    "acc_diff = []\n",
    "\n",
    "for x, y in zip(it10[0], it10[1]):\n",
    "    acc_diff.append(x-y)\n",
    "    \n",
    "w, p = wilcoxon(acc_diff)\n",
    "\n",
    "print(\"P-value :\", p)"
   ]
  },
  {
   "cell_type": "markdown",
   "metadata": {},
   "source": [
    "A small p-value indicates that the accuracy scores differ significantly with 95% certanity.\n",
    "A large p-value indicates that there is not enough evidence that the accuracy scores differ significantly.\n",
    "\n",
    "If there are five or less values then the p-value will always be above 0.05. As I have 10 accuracy values, and my p-value is very close to 0.05 (by 0.02), I conclude that I have a large p-value. This means that there us not enough evidence to conclude that the  accuracy scores from the logistic regression and random forest regressor differ significantly.\n",
    "\n",
    "Sources: https://www.graphpad.com/guides/prism/latest/statistics/stat_interpreting_results_wilcoxon_.htm"
   ]
  },
  {
   "cell_type": "markdown",
   "metadata": {
    "id": "e2z2g9eF4-2E"
   },
   "source": [
    "---"
   ]
  }
 ],
 "metadata": {
  "colab": {
   "collapsed_sections": [],
   "name": "notebook_a3.ipynb",
   "provenance": []
  },
  "kernelspec": {
   "display_name": "Python 3 (ipykernel)",
   "language": "python",
   "name": "python3"
  },
  "language_info": {
   "codemirror_mode": {
    "name": "ipython",
    "version": 3
   },
   "file_extension": ".py",
   "mimetype": "text/x-python",
   "name": "python",
   "nbconvert_exporter": "python",
   "pygments_lexer": "ipython3",
   "version": "3.9.7"
  },
  "toc": {
   "base_numbering": 1,
   "nav_menu": {},
   "number_sections": true,
   "sideBar": true,
   "skip_h1_title": false,
   "title_cell": "Table of Contents",
   "title_sidebar": "Contents",
   "toc_cell": false,
   "toc_position": {},
   "toc_section_display": true,
   "toc_window_display": true
  }
 },
 "nbformat": 4,
 "nbformat_minor": 1
}
